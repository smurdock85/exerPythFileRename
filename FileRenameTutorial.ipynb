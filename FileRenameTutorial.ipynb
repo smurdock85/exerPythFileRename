{
 "cells": [
  {
   "cell_type": "code",
   "execution_count": null,
   "source": [
    "import os\n",
    "#changing directory\n",
    "os.chdir('/Users/shelby/Desktop/Biomedical Informatics/Fall 2021/NURS 6806/exerPythFileRename/Files/')\n",
    "#iterating through each of the listed files in the directory ^\n",
    "for f in os.listdir(): \n",
    "    #split based on the period \n",
    "    f_name, f_ext = os.path.splitext(f)\n",
    "    #split text based on the dash\n",
    "    f_title, f_course, f_num = f_name.split('-')"
   ],
   "outputs": [],
   "metadata": {}
  },
  {
   "cell_type": "code",
   "execution_count": null,
   "source": [
    "#removing spaces\n",
    "    f_title = f_title.strip()\n",
    "    f_course = f_course.strip()\n",
    "    #make sure number is at least 2 characters long\n",
    "    f_num = f_num.strip()[1:].zfill(2)"
   ],
   "outputs": [],
   "metadata": {}
  },
  {
   "cell_type": "code",
   "execution_count": null,
   "source": [
    "#format the name of the files \n",
    "    new_name = '{}-{}{}'.format(f_num, f_title, f_ext)\n",
    "    #actually renaming the file \n",
    "    os.rename(f, new_name)\n"
   ],
   "outputs": [],
   "metadata": {}
  }
 ],
 "metadata": {
  "orig_nbformat": 4,
  "language_info": {
   "name": "python"
  }
 },
 "nbformat": 4,
 "nbformat_minor": 2
}